{
  "cells": [
    {
      "cell_type": "markdown",
      "metadata": {
        "id": "view-in-github",
        "colab_type": "text"
      },
      "source": [
        "<a href=\"https://colab.research.google.com/github/hsnaydos11/Fruit-Recognition-with-Deep-Learning/blob/main/last.ipynb\" target=\"_parent\"><img src=\"https://colab.research.google.com/assets/colab-badge.svg\" alt=\"Open In Colab\"/></a>"
      ]
    },
    {
      "cell_type": "code",
      "execution_count": null,
      "metadata": {
        "colab": {
          "base_uri": "https://localhost:8080/"
        },
        "id": "bX-7JshQlSbW",
        "outputId": "4c7f343f-679e-4802-9268-cb3e7a404138"
      },
      "outputs": [
        {
          "output_type": "stream",
          "name": "stdout",
          "text": [
            "Collecting memory-profiler\n",
            "  Downloading memory_profiler-0.61.0-py3-none-any.whl (31 kB)\n",
            "Requirement already satisfied: psutil in /usr/local/lib/python3.10/dist-packages (from memory-profiler) (5.9.5)\n",
            "Installing collected packages: memory-profiler\n",
            "Successfully installed memory-profiler-0.61.0\n"
          ]
        }
      ],
      "source": [
        "pip install memory-profiler"
      ]
    },
    {
      "cell_type": "code",
      "execution_count": null,
      "metadata": {
        "id": "BknJ4wspX5Vi"
      },
      "outputs": [],
      "source": [
        "import matplotlib.pyplot as plt\n",
        "import numpy as np\n",
        "import cv2\n",
        "import os\n",
        "import PIL\n",
        "import tensorflow as tf\n",
        "import shutil\n",
        "\n",
        "\n",
        "from tensorflow import keras\n",
        "from tensorflow.keras import layers\n",
        "from tensorflow.keras.models import Sequential\n",
        "from sklearn.model_selection import train_test_split\n",
        "\n",
        "\n",
        "\n",
        "from tensorflow.keras import backend as K\n",
        "from tensorflow.keras.optimizers import Adam\n",
        "\n",
        "\n",
        "import time\n",
        "import psutil  # For memory usage\n",
        "import numpy as np\n",
        "from sklearn.metrics import accuracy_score\n",
        "from memory_profiler import profile\n",
        "\n",
        "\n",
        "from tensorflow.keras.applications import VGG16"
      ]
    },
    {
      "cell_type": "code",
      "execution_count": null,
      "metadata": {
        "id": "mOQZhMGJYCM7"
      },
      "outputs": [],
      "source": [
        "data_dir = '/content/drive/MyDrive/Deep Learning Final'"
      ]
    },
    {
      "cell_type": "code",
      "execution_count": null,
      "metadata": {
        "id": "9wBdd2dgYyUJ"
      },
      "outputs": [],
      "source": [
        "import pathlib\n",
        "data_dir = pathlib.Path(data_dir)"
      ]
    },
    {
      "cell_type": "code",
      "execution_count": null,
      "metadata": {
        "colab": {
          "base_uri": "https://localhost:8080/"
        },
        "id": "b2BnnSc4Y13A",
        "outputId": "da223116-4239-474e-db22-c419d02e2bac"
      },
      "outputs": [
        {
          "output_type": "execute_result",
          "data": {
            "text/plain": [
              "1709"
            ]
          },
          "metadata": {},
          "execution_count": 5
        }
      ],
      "source": [
        "image_count = len(list(data_dir.glob('*/*.jpg')))\n",
        "image_count"
      ]
    },
    {
      "cell_type": "code",
      "execution_count": null,
      "metadata": {
        "id": "gN6GaziCY39S"
      },
      "outputs": [],
      "source": [
        "#sınıflardaki fotoğraflar etiketleme işlemi\n",
        "fruit_images_dict = {\n",
        "    'apple' : list(data_dir.glob('apple/*')),\n",
        "    'orange' : list(data_dir.glob('orange/*')),\n",
        "    'mandarin' : list(data_dir.glob('mandarin/*')),\n",
        "    'banana' : list(data_dir.glob('banana/*'))\n",
        "}\n",
        "fruit_labels_dict = {\n",
        "    'apple': 0,\n",
        "    'orange' : 1,\n",
        "    'mandarin' :2,\n",
        "    'banana' :3\n",
        "}"
      ]
    },
    {
      "cell_type": "code",
      "execution_count": null,
      "metadata": {
        "id": "UNnKM8z6Y6n-"
      },
      "outputs": [],
      "source": [
        "#boyutlandırma işlemi\n",
        "\n",
        "X, y = [], []\n",
        "\n",
        "for fruit_name, images in fruit_images_dict.items():\n",
        "    for image in images:\n",
        "        img = cv2.imread(str(image))\n",
        "        resized_img = cv2.resize(img, (180, 180))\n",
        "        X.append(resized_img)\n",
        "        y.append(fruit_labels_dict[fruit_name])"
      ]
    },
    {
      "cell_type": "code",
      "execution_count": null,
      "metadata": {
        "id": "FnOL1eB5Y7ie"
      },
      "outputs": [],
      "source": [
        "X = np.array(X)\n",
        "y = np.array(y)"
      ]
    },
    {
      "cell_type": "code",
      "execution_count": null,
      "metadata": {
        "id": "-HykvvMBY8lo"
      },
      "outputs": [],
      "source": [
        "# Veri setini eğitim ve test kümelerine bölelim\n",
        "X_train, X_test, y_train, y_test = train_test_split(X, y, test_size=0.2, random_state=42)"
      ]
    },
    {
      "cell_type": "code",
      "execution_count": null,
      "metadata": {
        "id": "J7Ba3iCQffhp"
      },
      "outputs": [],
      "source": [
        "#normalizasyon işlemi\n",
        "X_train_scaled = X_train / 255\n",
        "X_test_scaled = X_test / 255"
      ]
    },
    {
      "cell_type": "code",
      "execution_count": null,
      "metadata": {
        "colab": {
          "base_uri": "https://localhost:8080/"
        },
        "id": "9iEYw0chbVQE",
        "outputId": "42774b45-7822-446f-a349-cb3cbc2bf855"
      },
      "outputs": [
        {
          "output_type": "stream",
          "name": "stdout",
          "text": [
            "Epoch 1/10\n",
            "89/89 [==============================] - 15s 41ms/step - loss: 0.7815 - accuracy: 0.7684\n",
            "Epoch 2/10\n",
            "89/89 [==============================] - 3s 31ms/step - loss: 0.4116 - accuracy: 0.8626\n",
            "Epoch 3/10\n",
            "89/89 [==============================] - 3s 31ms/step - loss: 0.4186 - accuracy: 0.8683\n",
            "Epoch 4/10\n",
            "89/89 [==============================] - 3s 31ms/step - loss: 0.3501 - accuracy: 0.8839\n",
            "Epoch 5/10\n",
            "89/89 [==============================] - 3s 35ms/step - loss: 0.2968 - accuracy: 0.8980\n",
            "Epoch 6/10\n",
            "89/89 [==============================] - 3s 35ms/step - loss: 0.4112 - accuracy: 0.8725\n",
            "Epoch 7/10\n",
            "89/89 [==============================] - 3s 32ms/step - loss: 0.2859 - accuracy: 0.9065\n",
            "Epoch 8/10\n",
            "89/89 [==============================] - 3s 31ms/step - loss: 0.2336 - accuracy: 0.9285\n",
            "Epoch 9/10\n",
            "89/89 [==============================] - 3s 31ms/step - loss: 0.2316 - accuracy: 0.9221\n",
            "Epoch 10/10\n",
            "89/89 [==============================] - 3s 32ms/step - loss: 0.1734 - accuracy: 0.9363\n",
            "Training Time: 47.62082052230835 seconds\n",
            "Memory Usage: 6.403541564941406 MB\n"
          ]
        }
      ],
      "source": [
        "import tracemalloc\n",
        "# memory usage kontrolü\n",
        "tracemalloc.start()\n",
        "\n",
        "num_classes = 5\n",
        "\n",
        "model = Sequential([\n",
        "    layers.Conv2D(32, (3, 3), padding='same', activation='relu'),\n",
        "    layers.BatchNormalization(),\n",
        "    layers.MaxPooling2D((2, 2)),\n",
        "\n",
        "    layers.Conv2D(64, (3, 3), padding='same', activation='relu'),\n",
        "    layers.BatchNormalization(),\n",
        "    layers.MaxPooling2D((2, 2)),\n",
        "\n",
        "    layers.Conv2D(128, (3, 3), padding='same', activation='relu'),\n",
        "    layers.BatchNormalization(),\n",
        "    layers.MaxPooling2D((2, 2)),\n",
        "\n",
        "    layers.Flatten(),\n",
        "\n",
        "    layers.Dense(256, activation='relu'),\n",
        "    layers.BatchNormalization(),\n",
        "    layers.Dropout(0.5),\n",
        "\n",
        "    layers.Dense(128, activation='relu'),\n",
        "    layers.BatchNormalization(),\n",
        "    layers.Dropout(0.5),\n",
        "\n",
        "    layers.Dense(num_classes)\n",
        "])\n",
        "\n",
        "model.compile(optimizer='adam',\n",
        "              loss=tf.keras.losses.SparseCategoricalCrossentropy(from_logits=True),\n",
        "              metrics=['accuracy'])\n",
        "\n",
        "\n",
        "# eğitim zamanını ve hafıza kullanımını hesaplama\n",
        "start_time = time.time()\n",
        "start_memory = tracemalloc.get_traced_memory()\n",
        "\n",
        "history =  model.fit(X_train_scaled, y_train, epochs=10, batch_size=16)\n",
        "\n",
        "end_time = time.time()\n",
        "end_memory = tracemalloc.get_traced_memory()\n",
        "training_time = end_time - start_time\n",
        "memory_usage = end_memory[0] - start_memory[0]\n",
        "\n",
        "print(f\"Training Time: {training_time} seconds\")\n",
        "print(f\"Memory Usage: {memory_usage / (1024 ** 2)} MB\")  # Convert to megabytes\n",
        "tracemalloc.stop()"
      ]
    },
    {
      "cell_type": "code",
      "execution_count": null,
      "metadata": {
        "colab": {
          "base_uri": "https://localhost:8080/",
          "height": 407
        },
        "id": "SXGsEn5QphyT",
        "outputId": "731c4b6a-0298-4e93-c8f8-c478f4800a88"
      },
      "outputs": [
        {
          "output_type": "display_data",
          "data": {
            "text/plain": [
              "<Figure size 1200x400 with 2 Axes>"
            ],
            "image/png": "[encoded data removed]"
          },
          "metadata": {}
        }
      ],
      "source": [
        "# Plot accuracy and loss curves\n",
        "plt.figure(figsize=(12, 4))\n",
        "\n",
        "# Plot Training & Validation Accuracy değerlerinin gösterimi\n",
        "plt.subplot(1, 2, 1)\n",
        "plt.plot(history.history['accuracy'])\n",
        "plt.title('Model Accuracy')\n",
        "plt.xlabel('Epoch')\n",
        "plt.ylabel('Accuracy')\n",
        "plt.legend(['Train', 'Validation'], loc='upper left')\n",
        "\n",
        "# Plot Training & Validation Loss değerlerinin gösterimi\n",
        "plt.subplot(1, 2, 2)\n",
        "plt.plot(history.history['loss'])\n",
        "plt.title('Model Loss')\n",
        "plt.xlabel('Epoch')\n",
        "plt.ylabel('Loss')\n",
        "plt.legend(['Train', 'Validation'], loc='upper left')\n",
        "\n",
        "plt.tight_layout()\n",
        "plt.show()"
      ]
    },
    {
      "cell_type": "code",
      "execution_count": null,
      "metadata": {
        "colab": {
          "base_uri": "https://localhost:8080/"
        },
        "id": "Zwpl5hjbbaHo",
        "outputId": "f3a3b43f-69cc-404b-ea61-d5615c7e4650"
      },
      "outputs": [
        {
          "output_type": "stream",
          "name": "stdout",
          "text": [
            "12/12 [==============================] - 2s 40ms/step - loss: 0.1175 - accuracy: 0.9548\n"
          ]
        },
        {
          "output_type": "execute_result",
          "data": {
            "text/plain": [
              "[0.11749448627233505, 0.9548022747039795]"
            ]
          },
          "metadata": {},
          "execution_count": 13
        }
      ],
      "source": [
        "model.evaluate(X_test_scaled,y_test)"
      ]
    },
    {
      "cell_type": "code",
      "execution_count": null,
      "metadata": {
        "colab": {
          "base_uri": "https://localhost:8080/"
        },
        "id": "nmwSRwlFfonS",
        "outputId": "76647321-59cf-48a0-9f21-53447007acdb"
      },
      "outputs": [
        {
          "output_type": "stream",
          "name": "stdout",
          "text": [
            "12/12 [==============================] - 0s 20ms/step\n"
          ]
        },
        {
          "output_type": "execute_result",
          "data": {
            "text/plain": [
              "array([[ 0.05946507, -4.4709787 , -3.4296184 ,  8.817787  ,  0.6284381 ],\n",
              "       [-1.2515095 ,  4.7686214 , -2.0759354 , -2.9992442 , -1.7028085 ],\n",
              "       [-0.13016433, -3.7825117 , -4.241296  ,  7.8343844 ,  0.03508902],\n",
              "       ...,\n",
              "       [ 0.15957834, -4.6526203 , -3.26123   ,  8.875517  ,  0.73018086],\n",
              "       [-1.1878471 ,  5.0515985 , -1.1706886 , -4.2200627 , -1.7407905 ],\n",
              "       [-2.5882993 ,  3.8043275 ,  0.96605027, -0.33177778, -1.9615186 ]],\n",
              "      dtype=float32)"
            ]
          },
          "metadata": {},
          "execution_count": 14
        }
      ],
      "source": [
        "predictions = model.predict(X_test_scaled)\n",
        "\n",
        "predictions"
      ]
    },
    {
      "cell_type": "markdown",
      "metadata": {
        "id": "aBNjD1iG4r8i"
      },
      "source": [
        "YOLO MODELİYLE MEYVE TESPİT"
      ]
    },
    {
      "cell_type": "code",
      "execution_count": null,
      "metadata": {
        "colab": {
          "base_uri": "https://localhost:8080/"
        },
        "id": "K20uNMP5-U-Z",
        "outputId": "3ef916ad-bc04-4bf7-d94d-a741ce9d6b9f"
      },
      "outputs": [
        {
          "output_type": "stream",
          "name": "stdout",
          "text": [
            "Downloading data from https://storage.googleapis.com/tensorflow/keras-applications/vgg16/vgg16_weights_tf_dim_ordering_tf_kernels_notop.h5\n",
            "58889256/58889256 [==============================] - 4s 0us/step\n",
            "Epoch 1/10\n",
            "45/45 [==============================] - 14s 184ms/step - loss: 0.4907 - accuracy: 0.8562 - val_loss: 0.1620 - val_accuracy: 0.9379\n",
            "Epoch 2/10\n",
            "45/45 [==============================] - 5s 116ms/step - loss: 0.0791 - accuracy: 0.9773 - val_loss: 0.1104 - val_accuracy: 0.9520\n",
            "Epoch 3/10\n",
            "45/45 [==============================] - 5s 108ms/step - loss: 0.0377 - accuracy: 0.9908 - val_loss: 0.0822 - val_accuracy: 0.9689\n",
            "Epoch 4/10\n",
            "45/45 [==============================] - 5s 115ms/step - loss: 0.0172 - accuracy: 0.9979 - val_loss: 0.0791 - val_accuracy: 0.9689\n",
            "Epoch 5/10\n",
            "45/45 [==============================] - 5s 117ms/step - loss: 0.0140 - accuracy: 0.9986 - val_loss: 0.0909 - val_accuracy: 0.9661\n",
            "Epoch 6/10\n",
            "45/45 [==============================] - 5s 109ms/step - loss: 0.0068 - accuracy: 0.9993 - val_loss: 0.0865 - val_accuracy: 0.9718\n",
            "Epoch 7/10\n",
            "45/45 [==============================] - 5s 116ms/step - loss: 0.0047 - accuracy: 0.9993 - val_loss: 0.0782 - val_accuracy: 0.9718\n",
            "Epoch 8/10\n",
            "45/45 [==============================] - 5s 120ms/step - loss: 0.0050 - accuracy: 0.9986 - val_loss: 0.0929 - val_accuracy: 0.9689\n",
            "Epoch 9/10\n",
            "45/45 [==============================] - 5s 110ms/step - loss: 0.0044 - accuracy: 0.9986 - val_loss: 0.0802 - val_accuracy: 0.9718\n",
            "Epoch 10/10\n",
            "45/45 [==============================] - 5s 116ms/step - loss: 0.0035 - accuracy: 0.9993 - val_loss: 0.1038 - val_accuracy: 0.9661\n",
            "Training Time: 84.14632248878479 seconds\n",
            "Memory Usage: -1.801070213317871 MB\n",
            "12/12 - 1s - loss: 0.1038 - accuracy: 0.9661 - 1s/epoch - 86ms/step\n",
            "\n",
            "Test accuracy: 0.9661017060279846\n"
          ]
        }
      ],
      "source": [
        "# VGG16 modelini kullanalım (Transfer Öğrenme)\n",
        "base_model = VGG16(input_shape=(180, 180, 3), include_top=False, weights='imagenet')\n",
        "\n",
        "# Önceden eğitilmiş katmanların ağırlıklarını dondurun\n",
        "for layer in base_model.layers:\n",
        "    layer.trainable = False\n",
        "\n",
        "# Transfer Öğrenme modelini tasarlayalım\n",
        "model_v2 = Sequential()\n",
        "model_v2.add(base_model)\n",
        "model_v2.add(layers.Flatten())\n",
        "model_v2.add(layers.Dense(128, activation='relu'))\n",
        "model_v2.add(layers.Dense(4, activation='softmax'))\n",
        "\n",
        "# Modeli derleyelim\n",
        "model_v2.compile(optimizer='adam',\n",
        "                 loss='sparse_categorical_crossentropy',\n",
        "                 metrics=['accuracy'])\n",
        "\n",
        "# Training time ölçümü\n",
        "start_time = time.time()\n",
        "# Modeli eğitelim\n",
        "history_v2 = model_v2.fit(X_train_scaled, y_train, epochs=10, validation_data=(X_test_scaled, y_test))\n",
        "end_time = time.time()\n",
        "end_memory = tracemalloc.get_traced_memory()\n",
        "training_time = end_time - start_time\n",
        "memory_usage = end_memory[0] - start_memory[0]  # in bytes\n",
        "\n",
        "print(f\"Training Time: {training_time} seconds\")\n",
        "\n",
        "# Memory usage ölçümü\n",
        "print(f\"Memory Usage: {memory_usage / (1024 ** 2)} MB\")  # Convert to megabytes\n",
        "\n",
        "# Model performansını değerlendirelim\n",
        "test_loss, test_acc = model_v2.evaluate(X_test_scaled, y_test, verbose=2)\n",
        "print('\\nTest accuracy:', test_acc)\n",
        "\n",
        "tracemalloc.stop()"
      ]
    },
    {
      "cell_type": "code",
      "execution_count": null,
      "metadata": {
        "colab": {
          "base_uri": "https://localhost:8080/",
          "height": 407
        },
        "id": "k93PDVRcOu0P",
        "outputId": "612e91e4-861f-4e80-cacf-3d699f44105a"
      },
      "outputs": [
        {
          "output_type": "display_data",
          "data": {
            "text/plain": [
              "<Figure size 1200x400 with 2 Axes>"
            ],
            "image/png": "[encoded data removed]"
          },
          "metadata": {}
        }
      ],
      "source": [
        "# Plot accuracy and loss curves\n",
        "plt.figure(figsize=(12, 4))\n",
        "\n",
        "# Plot Training & Validation Accuracy values\n",
        "plt.subplot(1, 2, 1)\n",
        "plt.plot(history_v2.history['accuracy'])\n",
        "plt.title('Model Accuracy')\n",
        "plt.xlabel('Epoch')\n",
        "plt.ylabel('Accuracy')\n",
        "plt.legend(['Train', 'Validation'], loc='upper left')\n",
        "\n",
        "# Plot Training & Validation Loss values\n",
        "plt.subplot(1, 2, 2)\n",
        "plt.plot(history_v2.history['loss'])\n",
        "plt.title('Model Loss')\n",
        "plt.xlabel('Epoch')\n",
        "plt.ylabel('Loss')\n",
        "plt.legend(['Train', 'Validation'], loc='upper left')\n",
        "\n",
        "plt.tight_layout()\n",
        "plt.show()"
      ]
    },
    {
      "cell_type": "markdown",
      "metadata": {
        "id": "2MSn90yFPHtd"
      },
      "source": [
        "KAMERA BÖLÜMÜ"
      ]
    },
    {
      "cell_type": "code",
      "execution_count": null,
      "metadata": {
        "id": "qInBPHKsolFw"
      },
      "outputs": [],
      "source": [
        "def predict_fruit(frame):\n",
        "    # Modelinize göre görüntüyü önişleme yapabilir ve tahminlerde bulunabilirsiniz.\n",
        "    # Örnek olarak, resmi yeniden boyutlandırma ve normalleştirme işlemleri yapalım.\n",
        "    resized_frame = cv2.resize(frame, (180, 180))\n",
        "    normalized_frame = resized_frame / 255.0  # Örnek normalizasyon\n",
        "\n",
        "    # Tahmin\n",
        "    predictions = model.predict(np.expand_dims(normalized_frame, axis=0))\n",
        "\n",
        "    # Sınıf indeksi\n",
        "    predicted_class_index = np.argmax(predictions)\n",
        "\n",
        "    # Sınıf etiketi\n",
        "    class_labels = {0: 'Apple', 1: 'Orange', 2: 'Mandarin'}\n",
        "    predicted_class_label = class_labels[predicted_class_index]\n",
        "\n",
        "    # Görüntü üzerine sonuçları çizme\n",
        "    cv2.putText(frame, f'Predicted Fruit: {predicted_class_label}', (10, 30),\n",
        "                cv2.FONT_HERSHEY_SIMPLEX, 1, (0, 255, 0), 2, cv2.LINE_AA)\n",
        "\n",
        "    return frame"
      ]
    },
    {
      "cell_type": "code",
      "execution_count": null,
      "metadata": {
        "id": "l3KCoUtlkqsZ"
      },
      "outputs": [],
      "source": [
        "import cv2\n",
        "import numpy as np\n",
        "from google.colab.patches import cv2_imshow\n",
        "from IPython.display import display, Javascript, Image\n",
        "from google.colab.output import eval_js\n",
        "from base64 import b64decode\n",
        "import base64\n",
        "\n",
        "# JavaScript ile video akışını açma işlemi\n",
        "def video_stream():\n",
        "    js = Javascript('''\n",
        "        var video;\n",
        "        var div = null;\n",
        "        var stream;\n",
        "        var captureCanvas;\n",
        "        var imgElement;\n",
        "        var labelElement;\n",
        "\n",
        "        var pendingResolve = null;\n",
        "        var shutdown = false;\n",
        "\n",
        "        function removeDom() {\n",
        "            stream.getVideoTracks()[0].stop();\n",
        "            video.remove();\n",
        "            div.remove();\n",
        "            video = null;\n",
        "            div = null;\n",
        "            stream = null;\n",
        "            imgElement = null;\n",
        "            captureCanvas = null;\n",
        "            labelElement = null;\n",
        "        }\n",
        "\n",
        "        function onAnimationFrame() {\n",
        "            if (!shutdown) {\n",
        "                window.requestAnimationFrame(onAnimationFrame);\n",
        "            }\n",
        "            if (pendingResolve) {\n",
        "                var result = \"\";\n",
        "                if (!shutdown) {\n",
        "                    captureCanvas.getContext('2d').drawImage(video, 0, 0, 640, 480);\n",
        "                    result = captureCanvas.toDataURL('image/jpeg', 0.8);\n",
        "                }\n",
        "                var lp = pendingResolve;\n",
        "                pendingResolve = null;\n",
        "                lp(result);\n",
        "            }\n",
        "        }\n",
        "\n",
        "        async function createDom() {\n",
        "            if (div !== null) {\n",
        "                return stream;\n",
        "            }\n",
        "\n",
        "            div = document.createElement('div');\n",
        "            div.style.border = '2px solid black';\n",
        "            div.style.padding = '3px';\n",
        "            div.style.width = '100%';\n",
        "            div.style.maxWidth = '600px';\n",
        "            document.body.appendChild(div);\n",
        "\n",
        "            const modelOut = document.createElement('div');\n",
        "            modelOut.innerHTML = \"<span>Status:</span>\";\n",
        "            labelElement = document.createElement('span');\n",
        "            labelElement.innerText = 'No data';\n",
        "            labelElement.style.fontWeight = 'bold';\n",
        "            modelOut.appendChild(labelElement);\n",
        "            div.appendChild(modelOut);\n",
        "\n",
        "            video = document.createElement('video');\n",
        "            video.style.display = 'block';\n",
        "            video.width = div.clientWidth - 6;\n",
        "            video.setAttribute('playsinline', '');\n",
        "            video.onclick = () => { shutdown = true; };\n",
        "            stream = await navigator.mediaDevices.getUserMedia({ video: { facingMode: \"environment\" } });\n",
        "            div.appendChild(video);\n",
        "\n",
        "            imgElement = document.createElement('img');\n",
        "            imgElement.style.position = 'absolute';\n",
        "            imgElement.style.zIndex = 1;\n",
        "            imgElement.onclick = () => { shutdown = true; };\n",
        "            div.appendChild(imgElement);\n",
        "\n",
        "            const instruction = document.createElement('div');\n",
        "            instruction.innerHTML = '<span style=\"color: red; font-weight: bold;\">' +\n",
        "                'When finished, click here or on the video to stop this demo</span>';\n",
        "            div.appendChild(instruction);\n",
        "            instruction.onclick = () => { shutdown = true; };\n",
        "\n",
        "            video.srcObject = stream;\n",
        "            await video.play();\n",
        "\n",
        "            captureCanvas = document.createElement('canvas');\n",
        "            captureCanvas.width = 640;\n",
        "            captureCanvas.height = 480;\n",
        "            window.requestAnimationFrame(onAnimationFrame);\n",
        "\n",
        "            return stream;\n",
        "        }\n",
        "\n",
        "        async function stream_frame(label, imgData) {\n",
        "            if (shutdown) {\n",
        "                removeDom();\n",
        "                shutdown = false;\n",
        "                return '';\n",
        "            }\n",
        "\n",
        "            var preCreate = Date.now();\n",
        "            stream = await createDom();\n",
        "\n",
        "            var preShow = Date.now();\n",
        "            if (label !== \"\") {\n",
        "                labelElement.innerHTML = label;\n",
        "            }\n",
        "\n",
        "            if (imgData !== \"\") {\n",
        "                var videoRect = video.getClientRects()[0];\n",
        "                imgElement.style.top = videoRect.top + \"px\";\n",
        "                imgElement.style.left = videoRect.left + \"px\";\n",
        "                imgElement.style.width = videoRect.width + \"px\";\n",
        "                imgElement.style.height = videoRect.height + \"px\";\n",
        "                imgElement.src = imgData;\n",
        "            }\n",
        "\n",
        "            var preCapture = Date.now();\n",
        "            var result = await new Promise(function (resolve, reject) {\n",
        "                pendingResolve = resolve;\n",
        "            });\n",
        "            shutdown = false;\n",
        "\n",
        "            return {\n",
        "                'create': preShow - preCreate,\n",
        "                'show': preCapture - preShow,\n",
        "                'capture': Date.now() - preCapture,\n",
        "                'img': result\n",
        "            };\n",
        "        }\n",
        "        ''')\n",
        "\n",
        "    display(js)\n",
        "\n",
        "def video_frame(label, bbox):\n",
        "    data = eval_js('stream_frame(\"{}\", \"{}\")'.format(label, bbox))\n",
        "    return data\n",
        "\n",
        "# video_stream fonksiyonunu çağırarak video akışını başlatın\n",
        "video_stream()\n",
        "\n",
        "# etiket için video\n",
        "label_html = 'Capturing...'\n",
        "# başlangıçta bounding box'ı boş olarak başlat\n",
        "bbox = ''\n",
        "count = 0\n",
        "\n",
        "# Tanınan meyveleri tanımla\n",
        "class_labels = {0: 'Apple', 1: 'Orange', 2: 'Mandarin', 3: 'Banana'}\n",
        "\n",
        "# Kamera görüntüsünü al ve göster\n",
        "while True:\n",
        "    # Her döngünün başında toplam meyve sayısını sıfırla\n",
        "    total_fruit_count = 0\n",
        "\n",
        "\n",
        "    # Başlangıç zamanını kaydet\n",
        "    start_time = time.time()\n",
        "\n",
        "    # JavaScript tarafından dönen veriyi işleme\n",
        "    js_result = video_frame(label_html, bbox)['img']\n",
        "\n",
        "    # Base64 kodlu görüntü verisini çözümleme\n",
        "    image_data = base64.b64decode(js_result.split(',')[1])\n",
        "\n",
        "    # Görüntüyü OpenCV ile açma\n",
        "    frame = cv2.imdecode(np.frombuffer(image_data, np.uint8), -1)\n",
        "\n",
        "    # Modelinizi kullanarak meyve tanıma işlemi\n",
        "    # Bu kısmı modelinize ve veri ön işleme işlemlerinize göre özelleştirebilirsiniz\n",
        "    resized_frame = cv2.resize(frame, (180, 180))\n",
        "    normalized_frame = resized_frame / 255.0\n",
        "    predictions = model.predict(np.expand_dims(normalized_frame, axis=0))\n",
        "    predicted_class_index = np.argmax(predictions)\n",
        "\n",
        "    # Tanınan meyveyi etiketle, tanımlı meyveler dışındakiler için \"Tanımsız\" etiketi ver\n",
        "    predicted_class_label = class_labels.get(predicted_class_index, 'Tanımsız')\n",
        "\n",
        "    # Görüntü üzerine sonuçları çizme\n",
        "    cv2.putText(frame, f'Predicted Fruit: {predicted_class_label}', (10, 30),\n",
        "                cv2.FONT_HERSHEY_SIMPLEX, 1, (0, 255, 0), 2, cv2.LINE_AA)\n",
        "\n",
        "    # Görüntüyü göster\n",
        "    cv2_imshow(frame)\n",
        "\n",
        "    # Bitiş zamanını kaydet\n",
        "    end_time = time.time()\n",
        "\n",
        "    # Detection speed'i hesapla ve yazdır\n",
        "    detection_speed = 1 / (end_time - start_time)\n",
        "    print(f\"Detection Speed: {detection_speed:.2f} frames per second\")\n",
        "\n",
        "      # 1 saniye beklet\n",
        "    time.sleep(6)\n",
        "\n",
        "    # Çıkış için 'q' tuşuna basılmasını bekleyin\n",
        "    if cv2.waitKey(1) & 0xFF == ord('q'):\n",
        "        break"
      ]
    }
  ],
  "metadata": {
    "colab": {
      "provenance": [],
      "gpuType": "T4",
      "mount_file_id": "1bM3pqH9synLBiokSufW50cgPFVmCnpwk",
      "authorship_tag": "ABX9TyM5rI7PnlaBkmf9FFMbpE32",
      "include_colab_link": true
    },
    "kernelspec": {
      "display_name": "Python 3",
      "name": "python3"
    },
    "language_info": {
      "name": "python"
    },
    "accelerator": "GPU"
  },
  "nbformat": 4,
  "nbformat_minor": 0
}